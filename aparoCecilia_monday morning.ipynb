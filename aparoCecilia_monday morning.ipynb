{
 "cells": [
  {
   "cell_type": "code",
   "execution_count": 1,
   "id": "8b81a598",
   "metadata": {},
   "outputs": [],
   "source": [
    "import numpy as np\n",
    "import seaborn as sns\n",
    "import pandas as pd\n",
    "import matplotlib.pyplot as plt"
   ]
  },
  {
   "cell_type": "code",
   "execution_count": 2,
   "id": "2d17abee",
   "metadata": {},
   "outputs": [
    {
     "data": {
      "text/html": [
       "<div>\n",
       "<style scoped>\n",
       "    .dataframe tbody tr th:only-of-type {\n",
       "        vertical-align: middle;\n",
       "    }\n",
       "\n",
       "    .dataframe tbody tr th {\n",
       "        vertical-align: top;\n",
       "    }\n",
       "\n",
       "    .dataframe thead th {\n",
       "        text-align: right;\n",
       "    }\n",
       "</style>\n",
       "<table border=\"1\" class=\"dataframe\">\n",
       "  <thead>\n",
       "    <tr style=\"text-align: right;\">\n",
       "      <th></th>\n",
       "      <th>Timestamp</th>\n",
       "      <th>gender</th>\n",
       "      <th>Age</th>\n",
       "      <th>emotion</th>\n",
       "      <th>YOB</th>\n",
       "      <th>CGPA</th>\n",
       "      <th>Do you have a Girl Friend or BOY Friend</th>\n",
       "      <th>Do you have Depression?</th>\n",
       "      <th>Do you have Anxiety?</th>\n",
       "      <th>Do you have Panic attack?</th>\n",
       "      <th>Did you have seek any specialist for a treatment?</th>\n",
       "      <th>Duration</th>\n",
       "      <th>Pulse</th>\n",
       "      <th>Maxpulse</th>\n",
       "      <th>Calories</th>\n",
       "    </tr>\n",
       "  </thead>\n",
       "  <tbody>\n",
       "    <tr>\n",
       "      <th>0</th>\n",
       "      <td>05/07/2023 09:38:39</td>\n",
       "      <td>Male</td>\n",
       "      <td>21.0</td>\n",
       "      <td>Content</td>\n",
       "      <td>2002</td>\n",
       "      <td>4.22</td>\n",
       "      <td>No</td>\n",
       "      <td>No</td>\n",
       "      <td>Yes</td>\n",
       "      <td>Yes</td>\n",
       "      <td>Yes</td>\n",
       "      <td>60</td>\n",
       "      <td>110</td>\n",
       "      <td>130</td>\n",
       "      <td>409.1</td>\n",
       "    </tr>\n",
       "    <tr>\n",
       "      <th>1</th>\n",
       "      <td>05/07/2023 09:38:57</td>\n",
       "      <td>Marabou stock</td>\n",
       "      <td>45.0</td>\n",
       "      <td>Weird</td>\n",
       "      <td>2100</td>\n",
       "      <td>8.9</td>\n",
       "      <td>Yes</td>\n",
       "      <td>Yes</td>\n",
       "      <td>Yes</td>\n",
       "      <td>Yes</td>\n",
       "      <td>No</td>\n",
       "      <td>60</td>\n",
       "      <td>117</td>\n",
       "      <td>145</td>\n",
       "      <td>479.0</td>\n",
       "    </tr>\n",
       "    <tr>\n",
       "      <th>2</th>\n",
       "      <td>05/07/2023 09:39:09</td>\n",
       "      <td>Female</td>\n",
       "      <td>20.0</td>\n",
       "      <td>Happy</td>\n",
       "      <td>2002</td>\n",
       "      <td>3.98</td>\n",
       "      <td>No</td>\n",
       "      <td>No</td>\n",
       "      <td>Yes</td>\n",
       "      <td>Yes</td>\n",
       "      <td>No</td>\n",
       "      <td>60</td>\n",
       "      <td>103</td>\n",
       "      <td>135</td>\n",
       "      <td>340.0</td>\n",
       "    </tr>\n",
       "    <tr>\n",
       "      <th>3</th>\n",
       "      <td>05/07/2023 09:39:12</td>\n",
       "      <td>Male</td>\n",
       "      <td>21.0</td>\n",
       "      <td>Happy</td>\n",
       "      <td>2003</td>\n",
       "      <td>4.37</td>\n",
       "      <td>No</td>\n",
       "      <td>No</td>\n",
       "      <td>No</td>\n",
       "      <td>No</td>\n",
       "      <td>Nope</td>\n",
       "      <td>45</td>\n",
       "      <td>109</td>\n",
       "      <td>175</td>\n",
       "      <td>282.4</td>\n",
       "    </tr>\n",
       "    <tr>\n",
       "      <th>4</th>\n",
       "      <td>05/07/2023 09:39:14</td>\n",
       "      <td>Female</td>\n",
       "      <td>21.0</td>\n",
       "      <td>Happy</td>\n",
       "      <td>2002</td>\n",
       "      <td>3.63</td>\n",
       "      <td>No</td>\n",
       "      <td>No</td>\n",
       "      <td>No</td>\n",
       "      <td>No</td>\n",
       "      <td>No</td>\n",
       "      <td>45</td>\n",
       "      <td>117</td>\n",
       "      <td>148</td>\n",
       "      <td>406.0</td>\n",
       "    </tr>\n",
       "    <tr>\n",
       "      <th>...</th>\n",
       "      <td>...</td>\n",
       "      <td>...</td>\n",
       "      <td>...</td>\n",
       "      <td>...</td>\n",
       "      <td>...</td>\n",
       "      <td>...</td>\n",
       "      <td>...</td>\n",
       "      <td>...</td>\n",
       "      <td>...</td>\n",
       "      <td>...</td>\n",
       "      <td>...</td>\n",
       "      <td>...</td>\n",
       "      <td>...</td>\n",
       "      <td>...</td>\n",
       "      <td>...</td>\n",
       "    </tr>\n",
       "    <tr>\n",
       "      <th>164</th>\n",
       "      <td>05/07/2023 09:44:09</td>\n",
       "      <td>Male</td>\n",
       "      <td>22.0</td>\n",
       "      <td>Angry</td>\n",
       "      <td>1999</td>\n",
       "      <td>3.5</td>\n",
       "      <td>Yes</td>\n",
       "      <td>No</td>\n",
       "      <td>No</td>\n",
       "      <td>No</td>\n",
       "      <td>No</td>\n",
       "      <td>60</td>\n",
       "      <td>105</td>\n",
       "      <td>140</td>\n",
       "      <td>290.8</td>\n",
       "    </tr>\n",
       "    <tr>\n",
       "      <th>165</th>\n",
       "      <td>05/07/2023 09:44:14</td>\n",
       "      <td>male</td>\n",
       "      <td>23.0</td>\n",
       "      <td>sad</td>\n",
       "      <td>1999</td>\n",
       "      <td>4</td>\n",
       "      <td>no</td>\n",
       "      <td>no</td>\n",
       "      <td>no</td>\n",
       "      <td>no</td>\n",
       "      <td>no</td>\n",
       "      <td>60</td>\n",
       "      <td>110</td>\n",
       "      <td>145</td>\n",
       "      <td>300.0</td>\n",
       "    </tr>\n",
       "    <tr>\n",
       "      <th>166</th>\n",
       "      <td>05/07/2023 09:44:15</td>\n",
       "      <td>male</td>\n",
       "      <td>20.0</td>\n",
       "      <td>calm</td>\n",
       "      <td>2002</td>\n",
       "      <td>3.7</td>\n",
       "      <td>yes</td>\n",
       "      <td>no</td>\n",
       "      <td>no</td>\n",
       "      <td>no</td>\n",
       "      <td>no</td>\n",
       "      <td>60</td>\n",
       "      <td>115</td>\n",
       "      <td>145</td>\n",
       "      <td>310.2</td>\n",
       "    </tr>\n",
       "    <tr>\n",
       "      <th>167</th>\n",
       "      <td>05/07/2023 09:44:35</td>\n",
       "      <td>Female</td>\n",
       "      <td>21.0</td>\n",
       "      <td>sad</td>\n",
       "      <td>2001</td>\n",
       "      <td>3.8</td>\n",
       "      <td>no</td>\n",
       "      <td>no</td>\n",
       "      <td>yes</td>\n",
       "      <td>no</td>\n",
       "      <td>no</td>\n",
       "      <td>75</td>\n",
       "      <td>120</td>\n",
       "      <td>150</td>\n",
       "      <td>320.4</td>\n",
       "    </tr>\n",
       "    <tr>\n",
       "      <th>168</th>\n",
       "      <td>05/07/2023 09:45:13</td>\n",
       "      <td>Female</td>\n",
       "      <td>20.0</td>\n",
       "      <td>Happy</td>\n",
       "      <td>2022</td>\n",
       "      <td>4......</td>\n",
       "      <td>no</td>\n",
       "      <td>no</td>\n",
       "      <td>no</td>\n",
       "      <td>yes</td>\n",
       "      <td>no</td>\n",
       "      <td>75</td>\n",
       "      <td>125</td>\n",
       "      <td>150</td>\n",
       "      <td>330.4</td>\n",
       "    </tr>\n",
       "  </tbody>\n",
       "</table>\n",
       "<p>169 rows × 15 columns</p>\n",
       "</div>"
      ],
      "text/plain": [
       "               Timestamp         gender   Age  emotion   YOB     CGPA  \\\n",
       "0    05/07/2023 09:38:39           Male  21.0  Content  2002     4.22   \n",
       "1    05/07/2023 09:38:57  Marabou stock  45.0    Weird  2100      8.9   \n",
       "2    05/07/2023 09:39:09        Female   20.0    Happy  2002     3.98   \n",
       "3    05/07/2023 09:39:12           Male  21.0    Happy  2003     4.37   \n",
       "4    05/07/2023 09:39:14         Female  21.0    Happy  2002     3.63   \n",
       "..                   ...            ...   ...      ...   ...      ...   \n",
       "164  05/07/2023 09:44:09           Male  22.0   Angry   1999      3.5   \n",
       "165  05/07/2023 09:44:14           male  23.0      sad  1999        4   \n",
       "166  05/07/2023 09:44:15           male  20.0     calm  2002      3.7   \n",
       "167  05/07/2023 09:44:35         Female  21.0      sad  2001      3.8   \n",
       "168  05/07/2023 09:45:13         Female  20.0    Happy  2022  4......   \n",
       "\n",
       "    Do you have a Girl Friend or BOY Friend Do you have Depression?  \\\n",
       "0                                        No                      No   \n",
       "1                                       Yes                     Yes   \n",
       "2                                        No                      No   \n",
       "3                                        No                      No   \n",
       "4                                        No                      No   \n",
       "..                                      ...                     ...   \n",
       "164                                    Yes                       No   \n",
       "165                                      no                      no   \n",
       "166                                     yes                      no   \n",
       "167                                      no                      no   \n",
       "168                                      no                      no   \n",
       "\n",
       "    Do you have Anxiety? Do you have Panic attack?  \\\n",
       "0                    Yes                       Yes   \n",
       "1                    Yes                       Yes   \n",
       "2                    Yes                       Yes   \n",
       "3                     No                        No   \n",
       "4                     No                        No   \n",
       "..                   ...                       ...   \n",
       "164                   No                       No    \n",
       "165                   no                        no   \n",
       "166                   no                        no   \n",
       "167                  yes                        no   \n",
       "168                   no                       yes   \n",
       "\n",
       "    Did you have seek any specialist for a treatment?   Duration  Pulse  \\\n",
       "0                                                  Yes        60    110   \n",
       "1                                                   No        60    117   \n",
       "2                                                   No        60    103   \n",
       "3                                                 Nope        45    109   \n",
       "4                                                   No        45    117   \n",
       "..                                                 ...       ...    ...   \n",
       "164                                                 No        60    105   \n",
       "165                                                 no        60    110   \n",
       "166                                                 no        60    115   \n",
       "167                                                 no        75    120   \n",
       "168                                                 no        75    125   \n",
       "\n",
       "     Maxpulse  Calories  \n",
       "0         130     409.1  \n",
       "1         145     479.0  \n",
       "2         135     340.0  \n",
       "3         175     282.4  \n",
       "4         148     406.0  \n",
       "..        ...       ...  \n",
       "164       140     290.8  \n",
       "165       145     300.0  \n",
       "166       145     310.2  \n",
       "167       150     320.4  \n",
       "168       150     330.4  \n",
       "\n",
       "[169 rows x 15 columns]"
      ]
     },
     "execution_count": 2,
     "metadata": {},
     "output_type": "execute_result"
    }
   ],
   "source": [
    "data = pd.read_csv(\"bse_dataset4.csv\")\n",
    "data"
   ]
  },
  {
   "cell_type": "code",
   "execution_count": 3,
   "id": "23f2b7a1",
   "metadata": {},
   "outputs": [
    {
     "data": {
      "text/plain": [
       "(169, 15)"
      ]
     },
     "execution_count": 3,
     "metadata": {},
     "output_type": "execute_result"
    }
   ],
   "source": [
    "#understanding of data framme\n",
    "#checking shape of data\n",
    "\n",
    "data.shape"
   ]
  },
  {
   "cell_type": "code",
   "execution_count": 4,
   "id": "6f1c8864",
   "metadata": {},
   "outputs": [
    {
     "data": {
      "text/plain": [
       "Index(['Timestamp', 'gender', 'Age', 'emotion', 'YOB', 'CGPA',\n",
       "       'Do you have a Girl Friend or BOY Friend', 'Do you have Depression?',\n",
       "       'Do you have Anxiety?', 'Do you have Panic attack?',\n",
       "       'Did you have seek any specialist for a treatment? ', 'Duration',\n",
       "       'Pulse', 'Maxpulse', 'Calories'],\n",
       "      dtype='object')"
      ]
     },
     "execution_count": 4,
     "metadata": {},
     "output_type": "execute_result"
    }
   ],
   "source": [
    "#checking column names\n",
    "\n",
    "data.columns"
   ]
  },
  {
   "cell_type": "code",
   "execution_count": 5,
   "id": "86716a35",
   "metadata": {},
   "outputs": [
    {
     "data": {
      "text/plain": [
       "Timestamp                                             1\n",
       "gender                                                0\n",
       "Age                                                   2\n",
       "emotion                                               1\n",
       "YOB                                                   0\n",
       "CGPA                                                  0\n",
       "Do you have a Girl Friend or BOY Friend               0\n",
       "Do you have Depression?                               0\n",
       "Do you have Anxiety?                                  0\n",
       "Do you have Panic attack?                             0\n",
       "Did you have seek any specialist for a treatment?     0\n",
       "Duration                                              0\n",
       "Pulse                                                 0\n",
       "Maxpulse                                              0\n",
       "Calories                                              5\n",
       "dtype: int64"
      ]
     },
     "execution_count": 5,
     "metadata": {},
     "output_type": "execute_result"
    }
   ],
   "source": [
    "data.isnull().sum()"
   ]
  },
  {
   "cell_type": "code",
   "execution_count": 6,
   "id": "a4daaf8b",
   "metadata": {},
   "outputs": [
    {
     "data": {
      "text/plain": [
       "375.90182926829283"
      ]
     },
     "execution_count": 6,
     "metadata": {},
     "output_type": "execute_result"
    }
   ],
   "source": [
    "#replace the missing values in the column calories\n",
    "mean_value = data[\"Calories\"].mean()\n",
    "mean_value"
   ]
  },
  {
   "cell_type": "code",
   "execution_count": 7,
   "id": "3e340199",
   "metadata": {},
   "outputs": [],
   "source": [
    "#using the mean_value to replace the missing values\n",
    "data[\"Calories\"].fillna(mean_value, inplace = True)"
   ]
  },
  {
   "cell_type": "code",
   "execution_count": 8,
   "id": "1829cc9d",
   "metadata": {},
   "outputs": [
    {
     "data": {
      "text/plain": [
       "22.49700598802395"
      ]
     },
     "execution_count": 8,
     "metadata": {},
     "output_type": "execute_result"
    }
   ],
   "source": [
    "#replace the missing values in the column calories\n",
    "mean = data[\"Age\"].mean()\n",
    "mean"
   ]
  },
  {
   "cell_type": "code",
   "execution_count": 9,
   "id": "5ae2a774",
   "metadata": {},
   "outputs": [],
   "source": [
    "#using the mean_value to replace the missing values\n",
    "data[\"Age\"].fillna(mean_value, inplace = True)"
   ]
  },
  {
   "cell_type": "code",
   "execution_count": 10,
   "id": "dd3821ec",
   "metadata": {},
   "outputs": [
    {
     "data": {
      "text/plain": [
       "Timestamp                                             1\n",
       "gender                                                0\n",
       "Age                                                   0\n",
       "emotion                                               1\n",
       "YOB                                                   0\n",
       "CGPA                                                  0\n",
       "Do you have a Girl Friend or BOY Friend               0\n",
       "Do you have Depression?                               0\n",
       "Do you have Anxiety?                                  0\n",
       "Do you have Panic attack?                             0\n",
       "Did you have seek any specialist for a treatment?     0\n",
       "Duration                                              0\n",
       "Pulse                                                 0\n",
       "Maxpulse                                              0\n",
       "Calories                                              0\n",
       "dtype: int64"
      ]
     },
     "execution_count": 10,
     "metadata": {},
     "output_type": "execute_result"
    }
   ],
   "source": [
    "#confirm the above changes\n",
    "new_data = data.isnull().sum()\n",
    "new_data"
   ]
  },
  {
   "cell_type": "code",
   "execution_count": 11,
   "id": "486c4bb2",
   "metadata": {},
   "outputs": [
    {
     "data": {
      "text/plain": [
       "(15,)"
      ]
     },
     "execution_count": 11,
     "metadata": {},
     "output_type": "execute_result"
    }
   ],
   "source": [
    "new_data1 = new_data.dropna()\n",
    "new_data1.shape"
   ]
  },
  {
   "cell_type": "code",
   "execution_count": 12,
   "id": "f4da498e",
   "metadata": {},
   "outputs": [
    {
     "data": {
      "text/plain": [
       "<bound method Series.isnull of Timestamp                                             1\n",
       "gender                                                0\n",
       "Age                                                   0\n",
       "emotion                                               1\n",
       "YOB                                                   0\n",
       "CGPA                                                  0\n",
       "Do you have a Girl Friend or BOY Friend               0\n",
       "Do you have Depression?                               0\n",
       "Do you have Anxiety?                                  0\n",
       "Do you have Panic attack?                             0\n",
       "Did you have seek any specialist for a treatment?     0\n",
       "Duration                                              0\n",
       "Pulse                                                 0\n",
       "Maxpulse                                              0\n",
       "Calories                                              0\n",
       "dtype: int64>"
      ]
     },
     "execution_count": 12,
     "metadata": {},
     "output_type": "execute_result"
    }
   ],
   "source": [
    "new_data1.isnull"
   ]
  },
  {
   "cell_type": "code",
   "execution_count": 13,
   "id": "1b390d59",
   "metadata": {},
   "outputs": [],
   "source": [
    "new_data2 = new_data1.dropna() "
   ]
  },
  {
   "cell_type": "code",
   "execution_count": 14,
   "id": "9e1e226f",
   "metadata": {},
   "outputs": [
    {
     "data": {
      "text/plain": [
       "0"
      ]
     },
     "execution_count": 14,
     "metadata": {},
     "output_type": "execute_result"
    }
   ],
   "source": [
    "new_data2.isnull().sum()"
   ]
  },
  {
   "cell_type": "markdown",
   "id": "8b1678be",
   "metadata": {},
   "source": [
    "# EDA"
   ]
  },
  {
   "cell_type": "code",
   "execution_count": 15,
   "id": "3ed6416e",
   "metadata": {},
   "outputs": [
    {
     "data": {
      "text/plain": [
       "Timestamp                                             1\n",
       "gender                                                0\n",
       "Age                                                   0\n",
       "emotion                                               1\n",
       "YOB                                                   0\n",
       "CGPA                                                  0\n",
       "Do you have a Girl Friend or BOY Friend               0\n",
       "Do you have Depression?                               0\n",
       "Do you have Anxiety?                                  0\n",
       "Do you have Panic attack?                             0\n",
       "Did you have seek any specialist for a treatment?     0\n",
       "Duration                                              0\n",
       "Pulse                                                 0\n",
       "Maxpulse                                              0\n",
       "Calories                                              0\n",
       "dtype: int64"
      ]
     },
     "execution_count": 15,
     "metadata": {},
     "output_type": "execute_result"
    }
   ],
   "source": [
    "new_data2"
   ]
  },
  {
   "cell_type": "code",
   "execution_count": 16,
   "id": "2cbe0923",
   "metadata": {},
   "outputs": [
    {
     "data": {
      "image/png": "[encoded data removed]",
      "text/plain": [
       "<Figure size 640x480 with 1 Axes>"
      ]
     },
     "metadata": {},
     "output_type": "display_data"
    }
   ],
   "source": [
    "plt.boxplot(new_data2)\n",
    "\n",
    "# Add labels and title\n",
    "plt.xlabel('Data')\n",
    "plt.ylabel('Values')\n",
    "plt.show()"
   ]
  },
  {
   "cell_type": "code",
   "execution_count": 17,
   "id": "b375cfa6",
   "metadata": {},
   "outputs": [
    {
     "ename": "NameError",
     "evalue": "name 'emotion' is not defined",
     "output_type": "error",
     "traceback": [
      "\u001b[1;31m---------------------------------------------------------------------------\u001b[0m",
      "\u001b[1;31mNameError\u001b[0m                                 Traceback (most recent call last)",
      "\u001b[1;32m~\\AppData\\Local\\Temp\\ipykernel_8848\\1514103017.py\u001b[0m in \u001b[0;36m<module>\u001b[1;34m\u001b[0m\n\u001b[0;32m      3\u001b[0m \u001b[1;33m\u001b[0m\u001b[0m\n\u001b[0;32m      4\u001b[0m \u001b[1;31m# Plotting the bar graph\u001b[0m\u001b[1;33m\u001b[0m\u001b[1;33m\u001b[0m\u001b[0m\n\u001b[1;32m----> 5\u001b[1;33m \u001b[0mplt\u001b[0m\u001b[1;33m.\u001b[0m\u001b[0mbar\u001b[0m\u001b[1;33m(\u001b[0m\u001b[0memotion\u001b[0m\u001b[1;33m,\u001b[0m \u001b[0mAge\u001b[0m\u001b[1;33m)\u001b[0m\u001b[1;33m\u001b[0m\u001b[1;33m\u001b[0m\u001b[0m\n\u001b[0m\u001b[0;32m      6\u001b[0m \u001b[1;33m\u001b[0m\u001b[0m\n\u001b[0;32m      7\u001b[0m \u001b[1;31m# Adding labels and title\u001b[0m\u001b[1;33m\u001b[0m\u001b[1;33m\u001b[0m\u001b[0m\n",
      "\u001b[1;31mNameError\u001b[0m: name 'emotion' is not defined"
     ]
    }
   ],
   "source": [
    "categories = new_data2['emotion']\n",
    "values = new_data2['Age']\n",
    "\n",
    "# Plotting the bar graph\n",
    "plt.bar(emotion, Age)\n",
    "\n",
    "# Adding labels and title\n",
    "plt.xlabel('emotion')\n",
    "plt.ylabel('Age')\n",
    "plt.title('Bar Graph')\n",
    "\n",
    "# Displaying the graph\n",
    "plt.show()"
   ]
  },
  {
   "cell_type": "code",
   "execution_count": null,
   "id": "6e0a5b12",
   "metadata": {},
   "outputs": [],
   "source": []
  }
 ],
 "metadata": {
  "kernelspec": {
   "display_name": "Python 3 (ipykernel)",
   "language": "python",
   "name": "python3"
  },
  "language_info": {
   "codemirror_mode": {
    "name": "ipython",
    "version": 3
   },
   "file_extension": ".py",
   "mimetype": "text/x-python",
   "name": "python",
   "nbconvert_exporter": "python",
   "pygments_lexer": "ipython3",
   "version": "3.9.13"
  }
 },
 "nbformat": 4,
 "nbformat_minor": 5
}
