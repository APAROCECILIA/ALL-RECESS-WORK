{
 "cells": [
  {
   "cell_type": "code",
   "execution_count": 1,
   "id": "4484ccba",
   "metadata": {},
   "outputs": [],
   "source": [
    "from bs4 import BeautifulSoup\n",
    "import requests\n",
    "\n",
    "import csv\n",
    "import json"
   ]
  },
  {
   "cell_type": "code",
   "execution_count": 2,
   "id": "03cea9cd",
   "metadata": {},
   "outputs": [],
   "source": [
    "url = 'https://www.canto.com/ '\n",
    "response = requests.get(url)"
   ]
  },
  {
   "cell_type": "code",
   "execution_count": 3,
   "id": "2d1e7337",
   "metadata": {},
   "outputs": [
    {
     "name": "stdout",
     "output_type": "stream",
     "text": [
      "<title>Canto – The leader in digital asset management solutions</title>\n"
     ]
    }
   ],
   "source": [
    "soup = BeautifulSoup(response.content, 'html.parser')\n",
    "title = soup.find('title')\n",
    "print(title)"
   ]
  },
  {
   "cell_type": "markdown",
   "id": "50e530cf",
   "metadata": {},
   "source": [
    "## Assignment"
   ]
  },
  {
   "cell_type": "markdown",
   "id": "f2718b39",
   "metadata": {},
   "source": [
    "## extract all bird species from the site https://xeno-canto.org\n",
    "## generate the csv file or the JSON.file format for the bird species , family and more\n",
    "## generate all bird songs from the url https://xeno-canto.org\n",
    "## use this API to get data. the endpointfor the webservice is at https://xeno-canto.org/api/2/recordings"
   ]
  },
  {
   "cell_type": "markdown",
   "id": "b75e299d",
   "metadata": {},
   "source": [
    "## Function to extract bird species from the website\n",
    "    "
   ]
  },
  {
   "cell_type": "code",
   "execution_count": 4,
   "id": "22898ce4",
   "metadata": {},
   "outputs": [],
   "source": [
    "def extract_bird_species():\n",
    "    # Replace with the website URL containing bird species data\n",
    "    url = 'https://xeno-canto.org/collection/species/latest'\n",
    "    response = requests.get(url)\n",
    "    if response.status_code == 200:\n",
    "        soup = BeautifulSoup(response.content, 'html.parser')\n",
    "        # Implement web scraping logic here to extract bird species\n",
    "        species_list = soup.find_all('table', class_='results')\n",
    "        species_data = []\n",
    "        for species_table in species_list:\n",
    "            common_names = species_table.find_all(\n",
    "                'span', class_='common-name')\n",
    "            sci_names = species_table.find_all(\n",
    "                'span', class_='sci-name')\n",
    "            for common_name, sci_name in zip(common_names, sci_names):\n",
    "                species_data.append(\n",
    "                    {'common_name': common_name.text.strip(), 'sci_name': sci_name.text.strip()})\n",
    "        return species_data\n",
    "    else:\n",
    "        print('Failed to fetch data from the website.')\n",
    "        return []\n",
    "\n",
    "\n"
   ]
  },
  {
   "cell_type": "markdown",
   "id": "cc582a6d",
   "metadata": {},
   "source": [
    "## Function to generate CSV file"
   ]
  },
  {
   "cell_type": "code",
   "execution_count": 5,
   "id": "4f098dc7",
   "metadata": {},
   "outputs": [],
   "source": [
    "def generate_csv(data):\n",
    "    csv_filename = 'bird_species.csv'\n",
    "    with open(csv_filename, 'w', newline='', encoding='utf-8') as csvfile:\n",
    "        fieldnames = ['common_name', 'sci_name']\n",
    "        writer = csv.DictWriter(csvfile, fieldnames=fieldnames)\n",
    "        writer.writeheader()\n",
    "        writer.writerows(data)\n"
   ]
  },
  {
   "cell_type": "markdown",
   "id": "87204d10",
   "metadata": {},
   "source": [
    "## Function to generate JSON file"
   ]
  },
  {
   "cell_type": "code",
   "execution_count": 6,
   "id": "c8c208b0",
   "metadata": {},
   "outputs": [],
   "source": [
    "def generate_json(data):\n",
    "    json_filename = 'bird_species.json'\n",
    "    with open(json_filename, 'w', encoding='utf-8') as jsonfile:\n",
    "        json.dump(data, jsonfile, indent=4, ensure_ascii=False)\n"
   ]
  },
  {
   "cell_type": "markdown",
   "id": "72753449",
   "metadata": {},
   "source": [
    "## Generating both files"
   ]
  },
  {
   "cell_type": "code",
   "execution_count": 7,
   "id": "1e037dcc",
   "metadata": {},
   "outputs": [
    {
     "name": "stdout",
     "output_type": "stream",
     "text": [
      "CSV and JSON files generated successfully.\n"
     ]
    }
   ],
   "source": [
    "\n",
    "if __name__ == \"__main__\":\n",
    "    bird_species_data = extract_bird_species()\n",
    "    if bird_species_data:\n",
    "        generate_csv(bird_species_data)\n",
    "        generate_json(bird_species_data)\n",
    "        print('CSV and JSON files generated successfully.')\n"
   ]
  },
  {
   "cell_type": "code",
   "execution_count": null,
   "id": "e1f90d69",
   "metadata": {},
   "outputs": [],
   "source": []
  }
 ],
 "metadata": {
  "kernelspec": {
   "display_name": "Python 3 (ipykernel)",
   "language": "python",
   "name": "python3"
  },
  "language_info": {
   "codemirror_mode": {
    "name": "ipython",
    "version": 3
   },
   "file_extension": ".py",
   "mimetype": "text/x-python",
   "name": "python",
   "nbconvert_exporter": "python",
   "pygments_lexer": "ipython3",
   "version": "3.9.13"
  }
 },
 "nbformat": 4,
 "nbformat_minor": 5
}
