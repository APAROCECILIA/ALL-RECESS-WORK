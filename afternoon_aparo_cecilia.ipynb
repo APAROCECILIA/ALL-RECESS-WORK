{
 "cells": [
  {
   "cell_type": "code",
   "execution_count": 3,
   "id": "ac0300c8",
   "metadata": {},
   "outputs": [
    {
     "name": "stdout",
     "output_type": "stream",
     "text": [
      "Empty DataFrame\n",
      "Columns: []\n",
      "Index: []\n"
     ]
    }
   ],
   "source": [
    "import pandas as pd\n",
    "df = pd.DataFrame()\n",
    "print(df)"
   ]
  },
  {
   "cell_type": "code",
   "execution_count": 1,
   "id": "a9ac0683",
   "metadata": {},
   "outputs": [
    {
     "data": {
      "text/plain": [
       "[1, 2, 3, 4, 5]"
      ]
     },
     "execution_count": 1,
     "metadata": {},
     "output_type": "execute_result"
    }
   ],
   "source": [
    "my_list = [1, 2, 3, 4, 5]\n",
    "my_list"
   ]
  },
  {
   "cell_type": "code",
   "execution_count": 4,
   "id": "3441bcfa",
   "metadata": {},
   "outputs": [
    {
     "data": {
      "text/plain": [
       "1"
      ]
     },
     "execution_count": 4,
     "metadata": {},
     "output_type": "execute_result"
    }
   ],
   "source": [
    "my_list[0]"
   ]
  },
  {
   "cell_type": "code",
   "execution_count": 5,
   "id": "4030d01a",
   "metadata": {},
   "outputs": [
    {
     "data": {
      "text/plain": [
       "['rifle', 'shortgun', 'machine gun']"
      ]
     },
     "execution_count": 5,
     "metadata": {},
     "output_type": "execute_result"
    }
   ],
   "source": [
    "weapons =[\"rifle\",\"shortgun\",\"machine gun\"]\n",
    "weapons"
   ]
  },
  {
   "cell_type": "markdown",
   "id": "d1f8eff8",
   "metadata": {},
   "source": [
    "# A SIMPLE PANDAS SERIES FROM A DICTIONARY: FOR DAYS AND DATES"
   ]
  },
  {
   "cell_type": "code",
   "execution_count": 6,
   "id": "9b55b64b",
   "metadata": {},
   "outputs": [],
   "source": [
    "my_dict = {'Monday': '03-2001','Tuesday': '04-2001','Wednesday': '05-2001','Thursday': '06-2001','Friday': '07-2001'}"
   ]
  },
  {
   "cell_type": "markdown",
   "id": "dc62b8a6",
   "metadata": {},
   "source": [
    "# choose only Monday and Tuesday from the whole dictionary"
   ]
  },
  {
   "cell_type": "code",
   "execution_count": 8,
   "id": "0af7357e",
   "metadata": {},
   "outputs": [
    {
     "data": {
      "text/plain": [
       "Monday       03-2001\n",
       "Tuesday      04-2001\n",
       "Wednesday    05-2001\n",
       "Thursday     06-2001\n",
       "Friday       07-2001\n",
       "dtype: object"
      ]
     },
     "execution_count": 8,
     "metadata": {},
     "output_type": "execute_result"
    }
   ],
   "source": [
    "series = pd.Series(my_dict)\n",
    "series\n"
   ]
  },
  {
   "cell_type": "code",
   "execution_count": 14,
   "id": "fa18f44b",
   "metadata": {},
   "outputs": [],
   "source": [
    "data = {'Monday': '2023-07-03',\n",
    "        'Tuesday': '2023-07-04',\n",
    "        'Wednesday': '2023-07-05',\n",
    "        'Thursday': '2023-07-06',\n",
    "        'Friday': '2023-07-07'}\n",
    "\n",
    "series = pd.Series(data)\n",
    "subset_series = series[['Monday', 'Tuesday']]"
   ]
  },
  {
   "cell_type": "code",
   "execution_count": 15,
   "id": "876cd2ed",
   "metadata": {},
   "outputs": [
    {
     "data": {
      "text/plain": [
       "Monday     2023-07-03\n",
       "Tuesday    2023-07-04\n",
       "dtype: object"
      ]
     },
     "execution_count": 15,
     "metadata": {},
     "output_type": "execute_result"
    }
   ],
   "source": [
    "subset_series"
   ]
  },
  {
   "cell_type": "code",
   "execution_count": null,
   "id": "974ffed5",
   "metadata": {},
   "outputs": [],
   "source": []
  }
 ],
 "metadata": {
  "kernelspec": {
   "display_name": "Python 3 (ipykernel)",
   "language": "python",
   "name": "python3"
  },
  "language_info": {
   "codemirror_mode": {
    "name": "ipython",
    "version": 3
   },
   "file_extension": ".py",
   "mimetype": "text/x-python",
   "name": "python",
   "nbconvert_exporter": "python",
   "pygments_lexer": "ipython3",
   "version": "3.9.13"
  }
 },
 "nbformat": 4,
 "nbformat_minor": 5
}
